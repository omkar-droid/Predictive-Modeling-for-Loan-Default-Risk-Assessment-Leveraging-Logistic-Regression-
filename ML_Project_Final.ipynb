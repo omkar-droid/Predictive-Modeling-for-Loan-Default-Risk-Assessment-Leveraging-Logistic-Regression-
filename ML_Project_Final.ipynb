{
  "nbformat": 4,
  "nbformat_minor": 0,
  "metadata": {
    "colab": {
      "provenance": []
    },
    "kernelspec": {
      "name": "python3",
      "display_name": "Python 3"
    },
    "language_info": {
      "name": "python"
    }
  },
  "cells": [
    {
      "cell_type": "markdown",
      "source": [
        "# Importing Libraries"
      ],
      "metadata": {
        "id": "ja1wdWv_Em05"
      }
    },
    {
      "cell_type": "code",
      "execution_count": null,
      "metadata": {
        "id": "A_KT9E68aea5"
      },
      "outputs": [],
      "source": [
        "import pandas as pd\n",
        "import numpy as np\n",
        "import seaborn as sns\n",
        "import matplotlib.pyplot as plt"
      ]
    },
    {
      "cell_type": "markdown",
      "source": [
        "# Reading the Data"
      ],
      "metadata": {
        "id": "0h5O7NGhEthv"
      }
    },
    {
      "cell_type": "code",
      "source": [
        "df= pd.read_csv('/content/Loan_default.csv')"
      ],
      "metadata": {
        "id": "zFjQcq11bTOR"
      },
      "execution_count": null,
      "outputs": []
    },
    {
      "cell_type": "markdown",
      "source": [
        "# Data Exploration and Preprocessing"
      ],
      "metadata": {
        "id": "BQuRLLcoEw98"
      }
    },
    {
      "cell_type": "code",
      "source": [
        "df.head()"
      ],
      "metadata": {
        "colab": {
          "base_uri": "https://localhost:8080/",
          "height": 244
        },
        "id": "tiBAP4CPbeaC",
        "outputId": "6a18f068-87ef-41e7-b5d1-d46cd2f6b6b8"
      },
      "execution_count": null,
      "outputs": [
        {
          "output_type": "execute_result",
          "data": {
            "text/plain": [
              "       LoanID  Age  Income  LoanAmount  CreditScore  MonthsEmployed  \\\n",
              "0  I38PQUQS96   56   85994       50587          520              80   \n",
              "1  HPSK72WA7R   69   50432      124440          458              15   \n",
              "2  C1OZ6DPJ8Y   46   84208      129188          451              26   \n",
              "3  V2KKSFM3UN   32   31713       44799          743               0   \n",
              "4  EY08JDHTZP   60   20437        9139          633               8   \n",
              "\n",
              "   NumCreditLines  InterestRate  LoanTerm  DTIRatio    Education  \\\n",
              "0               4         15.23        36      0.44   Bachelor's   \n",
              "1               1          4.81        60      0.68     Master's   \n",
              "2               3         21.17        24      0.31     Master's   \n",
              "3               3          7.07        24      0.23  High School   \n",
              "4               4          6.51        48      0.73   Bachelor's   \n",
              "\n",
              "  EmploymentType MaritalStatus HasMortgage HasDependents LoanPurpose  \\\n",
              "0      Full-time      Divorced         Yes           Yes       Other   \n",
              "1      Full-time       Married          No            No       Other   \n",
              "2     Unemployed      Divorced         Yes           Yes        Auto   \n",
              "3      Full-time       Married          No            No    Business   \n",
              "4     Unemployed      Divorced          No           Yes        Auto   \n",
              "\n",
              "  HasCoSigner  Default  \n",
              "0         Yes        0  \n",
              "1         Yes        0  \n",
              "2          No        1  \n",
              "3          No        0  \n",
              "4          No        0  "
            ],
            "text/html": [
              "\n",
              "  <div id=\"df-1a9e823d-98ac-41c3-b180-12b37488098c\" class=\"colab-df-container\">\n",
              "    <div>\n",
              "<style scoped>\n",
              "    .dataframe tbody tr th:only-of-type {\n",
              "        vertical-align: middle;\n",
              "    }\n",
              "\n",
              "    .dataframe tbody tr th {\n",
              "        vertical-align: top;\n",
              "    }\n",
              "\n",
              "    .dataframe thead th {\n",
              "        text-align: right;\n",
              "    }\n",
              "</style>\n",
              "<table border=\"1\" class=\"dataframe\">\n",
              "  <thead>\n",
              "    <tr style=\"text-align: right;\">\n",
              "      <th></th>\n",
              "      <th>LoanID</th>\n",
              "      <th>Age</th>\n",
              "      <th>Income</th>\n",
              "      <th>LoanAmount</th>\n",
              "      <th>CreditScore</th>\n",
              "      <th>MonthsEmployed</th>\n",
              "      <th>NumCreditLines</th>\n",
              "      <th>InterestRate</th>\n",
              "      <th>LoanTerm</th>\n",
              "      <th>DTIRatio</th>\n",
              "      <th>Education</th>\n",
              "      <th>EmploymentType</th>\n",
              "      <th>MaritalStatus</th>\n",
              "      <th>HasMortgage</th>\n",
              "      <th>HasDependents</th>\n",
              "      <th>LoanPurpose</th>\n",
              "      <th>HasCoSigner</th>\n",
              "      <th>Default</th>\n",
              "    </tr>\n",
              "  </thead>\n",
              "  <tbody>\n",
              "    <tr>\n",
              "      <th>0</th>\n",
              "      <td>I38PQUQS96</td>\n",
              "      <td>56</td>\n",
              "      <td>85994</td>\n",
              "      <td>50587</td>\n",
              "      <td>520</td>\n",
              "      <td>80</td>\n",
              "      <td>4</td>\n",
              "      <td>15.23</td>\n",
              "      <td>36</td>\n",
              "      <td>0.44</td>\n",
              "      <td>Bachelor's</td>\n",
              "      <td>Full-time</td>\n",
              "      <td>Divorced</td>\n",
              "      <td>Yes</td>\n",
              "      <td>Yes</td>\n",
              "      <td>Other</td>\n",
              "      <td>Yes</td>\n",
              "      <td>0</td>\n",
              "    </tr>\n",
              "    <tr>\n",
              "      <th>1</th>\n",
              "      <td>HPSK72WA7R</td>\n",
              "      <td>69</td>\n",
              "      <td>50432</td>\n",
              "      <td>124440</td>\n",
              "      <td>458</td>\n",
              "      <td>15</td>\n",
              "      <td>1</td>\n",
              "      <td>4.81</td>\n",
              "      <td>60</td>\n",
              "      <td>0.68</td>\n",
              "      <td>Master's</td>\n",
              "      <td>Full-time</td>\n",
              "      <td>Married</td>\n",
              "      <td>No</td>\n",
              "      <td>No</td>\n",
              "      <td>Other</td>\n",
              "      <td>Yes</td>\n",
              "      <td>0</td>\n",
              "    </tr>\n",
              "    <tr>\n",
              "      <th>2</th>\n",
              "      <td>C1OZ6DPJ8Y</td>\n",
              "      <td>46</td>\n",
              "      <td>84208</td>\n",
              "      <td>129188</td>\n",
              "      <td>451</td>\n",
              "      <td>26</td>\n",
              "      <td>3</td>\n",
              "      <td>21.17</td>\n",
              "      <td>24</td>\n",
              "      <td>0.31</td>\n",
              "      <td>Master's</td>\n",
              "      <td>Unemployed</td>\n",
              "      <td>Divorced</td>\n",
              "      <td>Yes</td>\n",
              "      <td>Yes</td>\n",
              "      <td>Auto</td>\n",
              "      <td>No</td>\n",
              "      <td>1</td>\n",
              "    </tr>\n",
              "    <tr>\n",
              "      <th>3</th>\n",
              "      <td>V2KKSFM3UN</td>\n",
              "      <td>32</td>\n",
              "      <td>31713</td>\n",
              "      <td>44799</td>\n",
              "      <td>743</td>\n",
              "      <td>0</td>\n",
              "      <td>3</td>\n",
              "      <td>7.07</td>\n",
              "      <td>24</td>\n",
              "      <td>0.23</td>\n",
              "      <td>High School</td>\n",
              "      <td>Full-time</td>\n",
              "      <td>Married</td>\n",
              "      <td>No</td>\n",
              "      <td>No</td>\n",
              "      <td>Business</td>\n",
              "      <td>No</td>\n",
              "      <td>0</td>\n",
              "    </tr>\n",
              "    <tr>\n",
              "      <th>4</th>\n",
              "      <td>EY08JDHTZP</td>\n",
              "      <td>60</td>\n",
              "      <td>20437</td>\n",
              "      <td>9139</td>\n",
              "      <td>633</td>\n",
              "      <td>8</td>\n",
              "      <td>4</td>\n",
              "      <td>6.51</td>\n",
              "      <td>48</td>\n",
              "      <td>0.73</td>\n",
              "      <td>Bachelor's</td>\n",
              "      <td>Unemployed</td>\n",
              "      <td>Divorced</td>\n",
              "      <td>No</td>\n",
              "      <td>Yes</td>\n",
              "      <td>Auto</td>\n",
              "      <td>No</td>\n",
              "      <td>0</td>\n",
              "    </tr>\n",
              "  </tbody>\n",
              "</table>\n",
              "</div>\n",
              "    <div class=\"colab-df-buttons\">\n",
              "\n",
              "  <div class=\"colab-df-container\">\n",
              "    <button class=\"colab-df-convert\" onclick=\"convertToInteractive('df-1a9e823d-98ac-41c3-b180-12b37488098c')\"\n",
              "            title=\"Convert this dataframe to an interactive table.\"\n",
              "            style=\"display:none;\">\n",
              "\n",
              "  <svg xmlns=\"http://www.w3.org/2000/svg\" height=\"24px\" viewBox=\"0 -960 960 960\">\n",
              "    <path d=\"M120-120v-720h720v720H120Zm60-500h600v-160H180v160Zm220 220h160v-160H400v160Zm0 220h160v-160H400v160ZM180-400h160v-160H180v160Zm440 0h160v-160H620v160ZM180-180h160v-160H180v160Zm440 0h160v-160H620v160Z\"/>\n",
              "  </svg>\n",
              "    </button>\n",
              "\n",
              "  <style>\n",
              "    .colab-df-container {\n",
              "      display:flex;\n",
              "      gap: 12px;\n",
              "    }\n",
              "\n",
              "    .colab-df-convert {\n",
              "      background-color: #E8F0FE;\n",
              "      border: none;\n",
              "      border-radius: 50%;\n",
              "      cursor: pointer;\n",
              "      display: none;\n",
              "      fill: #1967D2;\n",
              "      height: 32px;\n",
              "      padding: 0 0 0 0;\n",
              "      width: 32px;\n",
              "    }\n",
              "\n",
              "    .colab-df-convert:hover {\n",
              "      background-color: #E2EBFA;\n",
              "      box-shadow: 0px 1px 2px rgba(60, 64, 67, 0.3), 0px 1px 3px 1px rgba(60, 64, 67, 0.15);\n",
              "      fill: #174EA6;\n",
              "    }\n",
              "\n",
              "    .colab-df-buttons div {\n",
              "      margin-bottom: 4px;\n",
              "    }\n",
              "\n",
              "    [theme=dark] .colab-df-convert {\n",
              "      background-color: #3B4455;\n",
              "      fill: #D2E3FC;\n",
              "    }\n",
              "\n",
              "    [theme=dark] .colab-df-convert:hover {\n",
              "      background-color: #434B5C;\n",
              "      box-shadow: 0px 1px 3px 1px rgba(0, 0, 0, 0.15);\n",
              "      filter: drop-shadow(0px 1px 2px rgba(0, 0, 0, 0.3));\n",
              "      fill: #FFFFFF;\n",
              "    }\n",
              "  </style>\n",
              "\n",
              "    <script>\n",
              "      const buttonEl =\n",
              "        document.querySelector('#df-1a9e823d-98ac-41c3-b180-12b37488098c button.colab-df-convert');\n",
              "      buttonEl.style.display =\n",
              "        google.colab.kernel.accessAllowed ? 'block' : 'none';\n",
              "\n",
              "      async function convertToInteractive(key) {\n",
              "        const element = document.querySelector('#df-1a9e823d-98ac-41c3-b180-12b37488098c');\n",
              "        const dataTable =\n",
              "          await google.colab.kernel.invokeFunction('convertToInteractive',\n",
              "                                                    [key], {});\n",
              "        if (!dataTable) return;\n",
              "\n",
              "        const docLinkHtml = 'Like what you see? Visit the ' +\n",
              "          '<a target=\"_blank\" href=https://colab.research.google.com/notebooks/data_table.ipynb>data table notebook</a>'\n",
              "          + ' to learn more about interactive tables.';\n",
              "        element.innerHTML = '';\n",
              "        dataTable['output_type'] = 'display_data';\n",
              "        await google.colab.output.renderOutput(dataTable, element);\n",
              "        const docLink = document.createElement('div');\n",
              "        docLink.innerHTML = docLinkHtml;\n",
              "        element.appendChild(docLink);\n",
              "      }\n",
              "    </script>\n",
              "  </div>\n",
              "\n",
              "\n",
              "<div id=\"df-c7c6182e-17a8-4b2a-9a0a-7ad77aa4be85\">\n",
              "  <button class=\"colab-df-quickchart\" onclick=\"quickchart('df-c7c6182e-17a8-4b2a-9a0a-7ad77aa4be85')\"\n",
              "            title=\"Suggest charts\"\n",
              "            style=\"display:none;\">\n",
              "\n",
              "<svg xmlns=\"http://www.w3.org/2000/svg\" height=\"24px\"viewBox=\"0 0 24 24\"\n",
              "     width=\"24px\">\n",
              "    <g>\n",
              "        <path d=\"M19 3H5c-1.1 0-2 .9-2 2v14c0 1.1.9 2 2 2h14c1.1 0 2-.9 2-2V5c0-1.1-.9-2-2-2zM9 17H7v-7h2v7zm4 0h-2V7h2v10zm4 0h-2v-4h2v4z\"/>\n",
              "    </g>\n",
              "</svg>\n",
              "  </button>\n",
              "\n",
              "<style>\n",
              "  .colab-df-quickchart {\n",
              "      --bg-color: #E8F0FE;\n",
              "      --fill-color: #1967D2;\n",
              "      --hover-bg-color: #E2EBFA;\n",
              "      --hover-fill-color: #174EA6;\n",
              "      --disabled-fill-color: #AAA;\n",
              "      --disabled-bg-color: #DDD;\n",
              "  }\n",
              "\n",
              "  [theme=dark] .colab-df-quickchart {\n",
              "      --bg-color: #3B4455;\n",
              "      --fill-color: #D2E3FC;\n",
              "      --hover-bg-color: #434B5C;\n",
              "      --hover-fill-color: #FFFFFF;\n",
              "      --disabled-bg-color: #3B4455;\n",
              "      --disabled-fill-color: #666;\n",
              "  }\n",
              "\n",
              "  .colab-df-quickchart {\n",
              "    background-color: var(--bg-color);\n",
              "    border: none;\n",
              "    border-radius: 50%;\n",
              "    cursor: pointer;\n",
              "    display: none;\n",
              "    fill: var(--fill-color);\n",
              "    height: 32px;\n",
              "    padding: 0;\n",
              "    width: 32px;\n",
              "  }\n",
              "\n",
              "  .colab-df-quickchart:hover {\n",
              "    background-color: var(--hover-bg-color);\n",
              "    box-shadow: 0 1px 2px rgba(60, 64, 67, 0.3), 0 1px 3px 1px rgba(60, 64, 67, 0.15);\n",
              "    fill: var(--button-hover-fill-color);\n",
              "  }\n",
              "\n",
              "  .colab-df-quickchart-complete:disabled,\n",
              "  .colab-df-quickchart-complete:disabled:hover {\n",
              "    background-color: var(--disabled-bg-color);\n",
              "    fill: var(--disabled-fill-color);\n",
              "    box-shadow: none;\n",
              "  }\n",
              "\n",
              "  .colab-df-spinner {\n",
              "    border: 2px solid var(--fill-color);\n",
              "    border-color: transparent;\n",
              "    border-bottom-color: var(--fill-color);\n",
              "    animation:\n",
              "      spin 1s steps(1) infinite;\n",
              "  }\n",
              "\n",
              "  @keyframes spin {\n",
              "    0% {\n",
              "      border-color: transparent;\n",
              "      border-bottom-color: var(--fill-color);\n",
              "      border-left-color: var(--fill-color);\n",
              "    }\n",
              "    20% {\n",
              "      border-color: transparent;\n",
              "      border-left-color: var(--fill-color);\n",
              "      border-top-color: var(--fill-color);\n",
              "    }\n",
              "    30% {\n",
              "      border-color: transparent;\n",
              "      border-left-color: var(--fill-color);\n",
              "      border-top-color: var(--fill-color);\n",
              "      border-right-color: var(--fill-color);\n",
              "    }\n",
              "    40% {\n",
              "      border-color: transparent;\n",
              "      border-right-color: var(--fill-color);\n",
              "      border-top-color: var(--fill-color);\n",
              "    }\n",
              "    60% {\n",
              "      border-color: transparent;\n",
              "      border-right-color: var(--fill-color);\n",
              "    }\n",
              "    80% {\n",
              "      border-color: transparent;\n",
              "      border-right-color: var(--fill-color);\n",
              "      border-bottom-color: var(--fill-color);\n",
              "    }\n",
              "    90% {\n",
              "      border-color: transparent;\n",
              "      border-bottom-color: var(--fill-color);\n",
              "    }\n",
              "  }\n",
              "</style>\n",
              "\n",
              "  <script>\n",
              "    async function quickchart(key) {\n",
              "      const quickchartButtonEl =\n",
              "        document.querySelector('#' + key + ' button');\n",
              "      quickchartButtonEl.disabled = true;  // To prevent multiple clicks.\n",
              "      quickchartButtonEl.classList.add('colab-df-spinner');\n",
              "      try {\n",
              "        const charts = await google.colab.kernel.invokeFunction(\n",
              "            'suggestCharts', [key], {});\n",
              "      } catch (error) {\n",
              "        console.error('Error during call to suggestCharts:', error);\n",
              "      }\n",
              "      quickchartButtonEl.classList.remove('colab-df-spinner');\n",
              "      quickchartButtonEl.classList.add('colab-df-quickchart-complete');\n",
              "    }\n",
              "    (() => {\n",
              "      let quickchartButtonEl =\n",
              "        document.querySelector('#df-c7c6182e-17a8-4b2a-9a0a-7ad77aa4be85 button');\n",
              "      quickchartButtonEl.style.display =\n",
              "        google.colab.kernel.accessAllowed ? 'block' : 'none';\n",
              "    })();\n",
              "  </script>\n",
              "</div>\n",
              "\n",
              "    </div>\n",
              "  </div>\n"
            ],
            "application/vnd.google.colaboratory.intrinsic+json": {
              "type": "dataframe",
              "variable_name": "df"
            }
          },
          "metadata": {},
          "execution_count": 3
        }
      ]
    },
    {
      "cell_type": "markdown",
      "source": [
        "## Dropping the column - 'LoanID'"
      ],
      "metadata": {
        "id": "MZZzhFoXE_CS"
      }
    },
    {
      "cell_type": "code",
      "source": [
        "df = df.drop(['LoanID'], axis=1)"
      ],
      "metadata": {
        "id": "UbodNsOCbYLm"
      },
      "execution_count": null,
      "outputs": []
    },
    {
      "cell_type": "markdown",
      "source": [
        "## Checking Data Types"
      ],
      "metadata": {
        "id": "KkOUyZAYFG1a"
      }
    },
    {
      "cell_type": "code",
      "source": [
        "df.info()"
      ],
      "metadata": {
        "colab": {
          "base_uri": "https://localhost:8080/"
        },
        "id": "M-9xWS_lbazm",
        "outputId": "f738dbac-52a0-4a4f-fcca-392f925e5cfa"
      },
      "execution_count": null,
      "outputs": [
        {
          "output_type": "stream",
          "name": "stdout",
          "text": [
            "<class 'pandas.core.frame.DataFrame'>\n",
            "RangeIndex: 255347 entries, 0 to 255346\n",
            "Data columns (total 17 columns):\n",
            " #   Column          Non-Null Count   Dtype  \n",
            "---  ------          --------------   -----  \n",
            " 0   Age             255347 non-null  int64  \n",
            " 1   Income          255347 non-null  int64  \n",
            " 2   LoanAmount      255347 non-null  int64  \n",
            " 3   CreditScore     255347 non-null  int64  \n",
            " 4   MonthsEmployed  255347 non-null  int64  \n",
            " 5   NumCreditLines  255347 non-null  int64  \n",
            " 6   InterestRate    255347 non-null  float64\n",
            " 7   LoanTerm        255347 non-null  int64  \n",
            " 8   DTIRatio        255347 non-null  float64\n",
            " 9   Education       255347 non-null  object \n",
            " 10  EmploymentType  255347 non-null  object \n",
            " 11  MaritalStatus   255347 non-null  object \n",
            " 12  HasMortgage     255347 non-null  object \n",
            " 13  HasDependents   255347 non-null  object \n",
            " 14  LoanPurpose     255347 non-null  object \n",
            " 15  HasCoSigner     255347 non-null  object \n",
            " 16  Default         255347 non-null  int64  \n",
            "dtypes: float64(2), int64(8), object(7)\n",
            "memory usage: 33.1+ MB\n"
          ]
        }
      ]
    },
    {
      "cell_type": "markdown",
      "source": [
        "## Checking for null values in dataset"
      ],
      "metadata": {
        "id": "QRoUFaL4E5A0"
      }
    },
    {
      "cell_type": "code",
      "source": [
        "df.isnull().sum()"
      ],
      "metadata": {
        "colab": {
          "base_uri": "https://localhost:8080/"
        },
        "id": "xVCB3LoRba2s",
        "outputId": "c5629836-57a4-49d0-a677-68bac99e3c89"
      },
      "execution_count": null,
      "outputs": [
        {
          "output_type": "execute_result",
          "data": {
            "text/plain": [
              "Age               0\n",
              "Income            0\n",
              "LoanAmount        0\n",
              "CreditScore       0\n",
              "MonthsEmployed    0\n",
              "NumCreditLines    0\n",
              "InterestRate      0\n",
              "LoanTerm          0\n",
              "DTIRatio          0\n",
              "Education         0\n",
              "EmploymentType    0\n",
              "MaritalStatus     0\n",
              "HasMortgage       0\n",
              "HasDependents     0\n",
              "LoanPurpose       0\n",
              "HasCoSigner       0\n",
              "Default           0\n",
              "dtype: int64"
            ]
          },
          "metadata": {},
          "execution_count": 6
        }
      ]
    },
    {
      "cell_type": "code",
      "source": [
        "df.describe()"
      ],
      "metadata": {
        "colab": {
          "base_uri": "https://localhost:8080/",
          "height": 300
        },
        "id": "AB6dxKW-boFB",
        "outputId": "d4a08f2a-692c-4d83-bbc0-4d3edaad4576"
      },
      "execution_count": null,
      "outputs": [
        {
          "output_type": "execute_result",
          "data": {
            "text/plain": [
              "                 Age         Income     LoanAmount    CreditScore  \\\n",
              "count  255347.000000  255347.000000  255347.000000  255347.000000   \n",
              "mean       43.498306   82499.304597  127578.865512     574.264346   \n",
              "std        14.990258   38963.013729   70840.706142     158.903867   \n",
              "min        18.000000   15000.000000    5000.000000     300.000000   \n",
              "25%        31.000000   48825.500000   66156.000000     437.000000   \n",
              "50%        43.000000   82466.000000  127556.000000     574.000000   \n",
              "75%        56.000000  116219.000000  188985.000000     712.000000   \n",
              "max        69.000000  149999.000000  249999.000000     849.000000   \n",
              "\n",
              "       MonthsEmployed  NumCreditLines   InterestRate       LoanTerm  \\\n",
              "count   255347.000000   255347.000000  255347.000000  255347.000000   \n",
              "mean        59.541976        2.501036      13.492773      36.025894   \n",
              "std         34.643376        1.117018       6.636443      16.969330   \n",
              "min          0.000000        1.000000       2.000000      12.000000   \n",
              "25%         30.000000        2.000000       7.770000      24.000000   \n",
              "50%         60.000000        2.000000      13.460000      36.000000   \n",
              "75%         90.000000        3.000000      19.250000      48.000000   \n",
              "max        119.000000        4.000000      25.000000      60.000000   \n",
              "\n",
              "            DTIRatio        Default  \n",
              "count  255347.000000  255347.000000  \n",
              "mean        0.500212       0.116128  \n",
              "std         0.230917       0.320379  \n",
              "min         0.100000       0.000000  \n",
              "25%         0.300000       0.000000  \n",
              "50%         0.500000       0.000000  \n",
              "75%         0.700000       0.000000  \n",
              "max         0.900000       1.000000  "
            ],
            "text/html": [
              "\n",
              "  <div id=\"df-527fb588-7c24-4ee6-889b-850cf6a5ae88\" class=\"colab-df-container\">\n",
              "    <div>\n",
              "<style scoped>\n",
              "    .dataframe tbody tr th:only-of-type {\n",
              "        vertical-align: middle;\n",
              "    }\n",
              "\n",
              "    .dataframe tbody tr th {\n",
              "        vertical-align: top;\n",
              "    }\n",
              "\n",
              "    .dataframe thead th {\n",
              "        text-align: right;\n",
              "    }\n",
              "</style>\n",
              "<table border=\"1\" class=\"dataframe\">\n",
              "  <thead>\n",
              "    <tr style=\"text-align: right;\">\n",
              "      <th></th>\n",
              "      <th>Age</th>\n",
              "      <th>Income</th>\n",
              "      <th>LoanAmount</th>\n",
              "      <th>CreditScore</th>\n",
              "      <th>MonthsEmployed</th>\n",
              "      <th>NumCreditLines</th>\n",
              "      <th>InterestRate</th>\n",
              "      <th>LoanTerm</th>\n",
              "      <th>DTIRatio</th>\n",
              "      <th>Default</th>\n",
              "    </tr>\n",
              "  </thead>\n",
              "  <tbody>\n",
              "    <tr>\n",
              "      <th>count</th>\n",
              "      <td>255347.000000</td>\n",
              "      <td>255347.000000</td>\n",
              "      <td>255347.000000</td>\n",
              "      <td>255347.000000</td>\n",
              "      <td>255347.000000</td>\n",
              "      <td>255347.000000</td>\n",
              "      <td>255347.000000</td>\n",
              "      <td>255347.000000</td>\n",
              "      <td>255347.000000</td>\n",
              "      <td>255347.000000</td>\n",
              "    </tr>\n",
              "    <tr>\n",
              "      <th>mean</th>\n",
              "      <td>43.498306</td>\n",
              "      <td>82499.304597</td>\n",
              "      <td>127578.865512</td>\n",
              "      <td>574.264346</td>\n",
              "      <td>59.541976</td>\n",
              "      <td>2.501036</td>\n",
              "      <td>13.492773</td>\n",
              "      <td>36.025894</td>\n",
              "      <td>0.500212</td>\n",
              "      <td>0.116128</td>\n",
              "    </tr>\n",
              "    <tr>\n",
              "      <th>std</th>\n",
              "      <td>14.990258</td>\n",
              "      <td>38963.013729</td>\n",
              "      <td>70840.706142</td>\n",
              "      <td>158.903867</td>\n",
              "      <td>34.643376</td>\n",
              "      <td>1.117018</td>\n",
              "      <td>6.636443</td>\n",
              "      <td>16.969330</td>\n",
              "      <td>0.230917</td>\n",
              "      <td>0.320379</td>\n",
              "    </tr>\n",
              "    <tr>\n",
              "      <th>min</th>\n",
              "      <td>18.000000</td>\n",
              "      <td>15000.000000</td>\n",
              "      <td>5000.000000</td>\n",
              "      <td>300.000000</td>\n",
              "      <td>0.000000</td>\n",
              "      <td>1.000000</td>\n",
              "      <td>2.000000</td>\n",
              "      <td>12.000000</td>\n",
              "      <td>0.100000</td>\n",
              "      <td>0.000000</td>\n",
              "    </tr>\n",
              "    <tr>\n",
              "      <th>25%</th>\n",
              "      <td>31.000000</td>\n",
              "      <td>48825.500000</td>\n",
              "      <td>66156.000000</td>\n",
              "      <td>437.000000</td>\n",
              "      <td>30.000000</td>\n",
              "      <td>2.000000</td>\n",
              "      <td>7.770000</td>\n",
              "      <td>24.000000</td>\n",
              "      <td>0.300000</td>\n",
              "      <td>0.000000</td>\n",
              "    </tr>\n",
              "    <tr>\n",
              "      <th>50%</th>\n",
              "      <td>43.000000</td>\n",
              "      <td>82466.000000</td>\n",
              "      <td>127556.000000</td>\n",
              "      <td>574.000000</td>\n",
              "      <td>60.000000</td>\n",
              "      <td>2.000000</td>\n",
              "      <td>13.460000</td>\n",
              "      <td>36.000000</td>\n",
              "      <td>0.500000</td>\n",
              "      <td>0.000000</td>\n",
              "    </tr>\n",
              "    <tr>\n",
              "      <th>75%</th>\n",
              "      <td>56.000000</td>\n",
              "      <td>116219.000000</td>\n",
              "      <td>188985.000000</td>\n",
              "      <td>712.000000</td>\n",
              "      <td>90.000000</td>\n",
              "      <td>3.000000</td>\n",
              "      <td>19.250000</td>\n",
              "      <td>48.000000</td>\n",
              "      <td>0.700000</td>\n",
              "      <td>0.000000</td>\n",
              "    </tr>\n",
              "    <tr>\n",
              "      <th>max</th>\n",
              "      <td>69.000000</td>\n",
              "      <td>149999.000000</td>\n",
              "      <td>249999.000000</td>\n",
              "      <td>849.000000</td>\n",
              "      <td>119.000000</td>\n",
              "      <td>4.000000</td>\n",
              "      <td>25.000000</td>\n",
              "      <td>60.000000</td>\n",
              "      <td>0.900000</td>\n",
              "      <td>1.000000</td>\n",
              "    </tr>\n",
              "  </tbody>\n",
              "</table>\n",
              "</div>\n",
              "    <div class=\"colab-df-buttons\">\n",
              "\n",
              "  <div class=\"colab-df-container\">\n",
              "    <button class=\"colab-df-convert\" onclick=\"convertToInteractive('df-527fb588-7c24-4ee6-889b-850cf6a5ae88')\"\n",
              "            title=\"Convert this dataframe to an interactive table.\"\n",
              "            style=\"display:none;\">\n",
              "\n",
              "  <svg xmlns=\"http://www.w3.org/2000/svg\" height=\"24px\" viewBox=\"0 -960 960 960\">\n",
              "    <path d=\"M120-120v-720h720v720H120Zm60-500h600v-160H180v160Zm220 220h160v-160H400v160Zm0 220h160v-160H400v160ZM180-400h160v-160H180v160Zm440 0h160v-160H620v160ZM180-180h160v-160H180v160Zm440 0h160v-160H620v160Z\"/>\n",
              "  </svg>\n",
              "    </button>\n",
              "\n",
              "  <style>\n",
              "    .colab-df-container {\n",
              "      display:flex;\n",
              "      gap: 12px;\n",
              "    }\n",
              "\n",
              "    .colab-df-convert {\n",
              "      background-color: #E8F0FE;\n",
              "      border: none;\n",
              "      border-radius: 50%;\n",
              "      cursor: pointer;\n",
              "      display: none;\n",
              "      fill: #1967D2;\n",
              "      height: 32px;\n",
              "      padding: 0 0 0 0;\n",
              "      width: 32px;\n",
              "    }\n",
              "\n",
              "    .colab-df-convert:hover {\n",
              "      background-color: #E2EBFA;\n",
              "      box-shadow: 0px 1px 2px rgba(60, 64, 67, 0.3), 0px 1px 3px 1px rgba(60, 64, 67, 0.15);\n",
              "      fill: #174EA6;\n",
              "    }\n",
              "\n",
              "    .colab-df-buttons div {\n",
              "      margin-bottom: 4px;\n",
              "    }\n",
              "\n",
              "    [theme=dark] .colab-df-convert {\n",
              "      background-color: #3B4455;\n",
              "      fill: #D2E3FC;\n",
              "    }\n",
              "\n",
              "    [theme=dark] .colab-df-convert:hover {\n",
              "      background-color: #434B5C;\n",
              "      box-shadow: 0px 1px 3px 1px rgba(0, 0, 0, 0.15);\n",
              "      filter: drop-shadow(0px 1px 2px rgba(0, 0, 0, 0.3));\n",
              "      fill: #FFFFFF;\n",
              "    }\n",
              "  </style>\n",
              "\n",
              "    <script>\n",
              "      const buttonEl =\n",
              "        document.querySelector('#df-527fb588-7c24-4ee6-889b-850cf6a5ae88 button.colab-df-convert');\n",
              "      buttonEl.style.display =\n",
              "        google.colab.kernel.accessAllowed ? 'block' : 'none';\n",
              "\n",
              "      async function convertToInteractive(key) {\n",
              "        const element = document.querySelector('#df-527fb588-7c24-4ee6-889b-850cf6a5ae88');\n",
              "        const dataTable =\n",
              "          await google.colab.kernel.invokeFunction('convertToInteractive',\n",
              "                                                    [key], {});\n",
              "        if (!dataTable) return;\n",
              "\n",
              "        const docLinkHtml = 'Like what you see? Visit the ' +\n",
              "          '<a target=\"_blank\" href=https://colab.research.google.com/notebooks/data_table.ipynb>data table notebook</a>'\n",
              "          + ' to learn more about interactive tables.';\n",
              "        element.innerHTML = '';\n",
              "        dataTable['output_type'] = 'display_data';\n",
              "        await google.colab.output.renderOutput(dataTable, element);\n",
              "        const docLink = document.createElement('div');\n",
              "        docLink.innerHTML = docLinkHtml;\n",
              "        element.appendChild(docLink);\n",
              "      }\n",
              "    </script>\n",
              "  </div>\n",
              "\n",
              "\n",
              "<div id=\"df-62a18e96-1c2a-403b-9c0e-ad9cd4af9fc5\">\n",
              "  <button class=\"colab-df-quickchart\" onclick=\"quickchart('df-62a18e96-1c2a-403b-9c0e-ad9cd4af9fc5')\"\n",
              "            title=\"Suggest charts\"\n",
              "            style=\"display:none;\">\n",
              "\n",
              "<svg xmlns=\"http://www.w3.org/2000/svg\" height=\"24px\"viewBox=\"0 0 24 24\"\n",
              "     width=\"24px\">\n",
              "    <g>\n",
              "        <path d=\"M19 3H5c-1.1 0-2 .9-2 2v14c0 1.1.9 2 2 2h14c1.1 0 2-.9 2-2V5c0-1.1-.9-2-2-2zM9 17H7v-7h2v7zm4 0h-2V7h2v10zm4 0h-2v-4h2v4z\"/>\n",
              "    </g>\n",
              "</svg>\n",
              "  </button>\n",
              "\n",
              "<style>\n",
              "  .colab-df-quickchart {\n",
              "      --bg-color: #E8F0FE;\n",
              "      --fill-color: #1967D2;\n",
              "      --hover-bg-color: #E2EBFA;\n",
              "      --hover-fill-color: #174EA6;\n",
              "      --disabled-fill-color: #AAA;\n",
              "      --disabled-bg-color: #DDD;\n",
              "  }\n",
              "\n",
              "  [theme=dark] .colab-df-quickchart {\n",
              "      --bg-color: #3B4455;\n",
              "      --fill-color: #D2E3FC;\n",
              "      --hover-bg-color: #434B5C;\n",
              "      --hover-fill-color: #FFFFFF;\n",
              "      --disabled-bg-color: #3B4455;\n",
              "      --disabled-fill-color: #666;\n",
              "  }\n",
              "\n",
              "  .colab-df-quickchart {\n",
              "    background-color: var(--bg-color);\n",
              "    border: none;\n",
              "    border-radius: 50%;\n",
              "    cursor: pointer;\n",
              "    display: none;\n",
              "    fill: var(--fill-color);\n",
              "    height: 32px;\n",
              "    padding: 0;\n",
              "    width: 32px;\n",
              "  }\n",
              "\n",
              "  .colab-df-quickchart:hover {\n",
              "    background-color: var(--hover-bg-color);\n",
              "    box-shadow: 0 1px 2px rgba(60, 64, 67, 0.3), 0 1px 3px 1px rgba(60, 64, 67, 0.15);\n",
              "    fill: var(--button-hover-fill-color);\n",
              "  }\n",
              "\n",
              "  .colab-df-quickchart-complete:disabled,\n",
              "  .colab-df-quickchart-complete:disabled:hover {\n",
              "    background-color: var(--disabled-bg-color);\n",
              "    fill: var(--disabled-fill-color);\n",
              "    box-shadow: none;\n",
              "  }\n",
              "\n",
              "  .colab-df-spinner {\n",
              "    border: 2px solid var(--fill-color);\n",
              "    border-color: transparent;\n",
              "    border-bottom-color: var(--fill-color);\n",
              "    animation:\n",
              "      spin 1s steps(1) infinite;\n",
              "  }\n",
              "\n",
              "  @keyframes spin {\n",
              "    0% {\n",
              "      border-color: transparent;\n",
              "      border-bottom-color: var(--fill-color);\n",
              "      border-left-color: var(--fill-color);\n",
              "    }\n",
              "    20% {\n",
              "      border-color: transparent;\n",
              "      border-left-color: var(--fill-color);\n",
              "      border-top-color: var(--fill-color);\n",
              "    }\n",
              "    30% {\n",
              "      border-color: transparent;\n",
              "      border-left-color: var(--fill-color);\n",
              "      border-top-color: var(--fill-color);\n",
              "      border-right-color: var(--fill-color);\n",
              "    }\n",
              "    40% {\n",
              "      border-color: transparent;\n",
              "      border-right-color: var(--fill-color);\n",
              "      border-top-color: var(--fill-color);\n",
              "    }\n",
              "    60% {\n",
              "      border-color: transparent;\n",
              "      border-right-color: var(--fill-color);\n",
              "    }\n",
              "    80% {\n",
              "      border-color: transparent;\n",
              "      border-right-color: var(--fill-color);\n",
              "      border-bottom-color: var(--fill-color);\n",
              "    }\n",
              "    90% {\n",
              "      border-color: transparent;\n",
              "      border-bottom-color: var(--fill-color);\n",
              "    }\n",
              "  }\n",
              "</style>\n",
              "\n",
              "  <script>\n",
              "    async function quickchart(key) {\n",
              "      const quickchartButtonEl =\n",
              "        document.querySelector('#' + key + ' button');\n",
              "      quickchartButtonEl.disabled = true;  // To prevent multiple clicks.\n",
              "      quickchartButtonEl.classList.add('colab-df-spinner');\n",
              "      try {\n",
              "        const charts = await google.colab.kernel.invokeFunction(\n",
              "            'suggestCharts', [key], {});\n",
              "      } catch (error) {\n",
              "        console.error('Error during call to suggestCharts:', error);\n",
              "      }\n",
              "      quickchartButtonEl.classList.remove('colab-df-spinner');\n",
              "      quickchartButtonEl.classList.add('colab-df-quickchart-complete');\n",
              "    }\n",
              "    (() => {\n",
              "      let quickchartButtonEl =\n",
              "        document.querySelector('#df-62a18e96-1c2a-403b-9c0e-ad9cd4af9fc5 button');\n",
              "      quickchartButtonEl.style.display =\n",
              "        google.colab.kernel.accessAllowed ? 'block' : 'none';\n",
              "    })();\n",
              "  </script>\n",
              "</div>\n",
              "\n",
              "    </div>\n",
              "  </div>\n"
            ],
            "application/vnd.google.colaboratory.intrinsic+json": {
              "type": "dataframe",
              "summary": "{\n  \"name\": \"df\",\n  \"rows\": 8,\n  \"fields\": [\n    {\n      \"column\": \"Age\",\n      \"properties\": {\n        \"dtype\": \"number\",\n        \"std\": 90264.88517873597,\n        \"min\": 14.990258418709589,\n        \"max\": 255347.0,\n        \"num_unique_values\": 8,\n        \"samples\": [\n          43.498306226429136,\n          43.0,\n          255347.0\n        ],\n        \"semantic_type\": \"\",\n        \"description\": \"\"\n      }\n    },\n    {\n      \"column\": \"Income\",\n      \"properties\": {\n        \"dtype\": \"number\",\n        \"std\": 76592.095875849,\n        \"min\": 15000.0,\n        \"max\": 255347.0,\n        \"num_unique_values\": 8,\n        \"samples\": [\n          82499.30459727351,\n          82466.0,\n          255347.0\n        ],\n        \"semantic_type\": \"\",\n        \"description\": \"\"\n      }\n    },\n    {\n      \"column\": \"LoanAmount\",\n      \"properties\": {\n        \"dtype\": \"number\",\n        \"std\": 89819.28246197541,\n        \"min\": 5000.0,\n        \"max\": 255347.0,\n        \"num_unique_values\": 8,\n        \"samples\": [\n          127578.86551242035,\n          127556.0,\n          255347.0\n        ],\n        \"semantic_type\": \"\",\n        \"description\": \"\"\n      }\n    },\n    {\n      \"column\": \"CreditScore\",\n      \"properties\": {\n        \"dtype\": \"number\",\n        \"std\": 90096.97588964661,\n        \"min\": 158.9038665949753,\n        \"max\": 255347.0,\n        \"num_unique_values\": 8,\n        \"samples\": [\n          574.2643461642392,\n          574.0,\n          255347.0\n        ],\n        \"semantic_type\": \"\",\n        \"description\": \"\"\n      }\n    },\n    {\n      \"column\": \"MonthsEmployed\",\n      \"properties\": {\n        \"dtype\": \"number\",\n        \"std\": 90258.94622452793,\n        \"min\": 0.0,\n        \"max\": 255347.0,\n        \"num_unique_values\": 8,\n        \"samples\": [\n          59.541976212761455,\n          60.0,\n          255347.0\n        ],\n        \"semantic_type\": \"\",\n        \"description\": \"\"\n      }\n    },\n    {\n      \"column\": \"NumCreditLines\",\n      \"properties\": {\n        \"dtype\": \"number\",\n        \"std\": 90278.00880226244,\n        \"min\": 1.0,\n        \"max\": 255347.0,\n        \"num_unique_values\": 7,\n        \"samples\": [\n          255347.0,\n          2.501035845339871,\n          3.0\n        ],\n        \"semantic_type\": \"\",\n        \"description\": \"\"\n      }\n    },\n    {\n      \"column\": \"InterestRate\",\n      \"properties\": {\n        \"dtype\": \"number\",\n        \"std\": 90274.3729874994,\n        \"min\": 2.0,\n        \"max\": 255347.0,\n        \"num_unique_values\": 8,\n        \"samples\": [\n          13.492773480792808,\n          13.46,\n          255347.0\n        ],\n        \"semantic_type\": \"\",\n        \"description\": \"\"\n      }\n    },\n    {\n      \"column\": \"LoanTerm\",\n      \"properties\": {\n        \"dtype\": \"number\",\n        \"std\": 90267.03097712154,\n        \"min\": 12.0,\n        \"max\": 255347.0,\n        \"num_unique_values\": 8,\n        \"samples\": [\n          36.02589417537703,\n          36.0,\n          255347.0\n        ],\n        \"semantic_type\": \"\",\n        \"description\": \"\"\n      }\n    },\n    {\n      \"column\": \"DTIRatio\",\n      \"properties\": {\n        \"dtype\": \"number\",\n        \"std\": 90278.63443154338,\n        \"min\": 0.1,\n        \"max\": 255347.0,\n        \"num_unique_values\": 8,\n        \"samples\": [\n          0.5002120643673119,\n          0.5,\n          255347.0\n        ],\n        \"semantic_type\": \"\",\n        \"description\": \"\"\n      }\n    },\n    {\n      \"column\": \"Default\",\n      \"properties\": {\n        \"dtype\": \"number\",\n        \"std\": 90278.72507388392,\n        \"min\": 0.0,\n        \"max\": 255347.0,\n        \"num_unique_values\": 5,\n        \"samples\": [\n          0.11612824901017048,\n          1.0,\n          0.3203792764304572\n        ],\n        \"semantic_type\": \"\",\n        \"description\": \"\"\n      }\n    }\n  ]\n}"
            }
          },
          "metadata": {},
          "execution_count": 7
        }
      ]
    },
    {
      "cell_type": "markdown",
      "source": [
        "## Checking values in categorical columns"
      ],
      "metadata": {
        "id": "i37T5WCKFMsb"
      }
    },
    {
      "cell_type": "code",
      "source": [
        "df['Education'].value_counts()"
      ],
      "metadata": {
        "colab": {
          "base_uri": "https://localhost:8080/"
        },
        "id": "fD1K5q9Tb0LP",
        "outputId": "88e5bac7-b692-455b-89a3-39749d704fd2"
      },
      "execution_count": null,
      "outputs": [
        {
          "output_type": "execute_result",
          "data": {
            "text/plain": [
              "Education\n",
              "Bachelor's     64366\n",
              "High School    63903\n",
              "Master's       63541\n",
              "PhD            63537\n",
              "Name: count, dtype: int64"
            ]
          },
          "metadata": {},
          "execution_count": 8
        }
      ]
    },
    {
      "cell_type": "code",
      "source": [
        "df['EmploymentType'].value_counts()"
      ],
      "metadata": {
        "colab": {
          "base_uri": "https://localhost:8080/"
        },
        "id": "FmLn2rAsb1Gr",
        "outputId": "8b6c0720-d0ce-48e0-c359-e804bab1517b"
      },
      "execution_count": null,
      "outputs": [
        {
          "output_type": "execute_result",
          "data": {
            "text/plain": [
              "EmploymentType\n",
              "Part-time        64161\n",
              "Unemployed       63824\n",
              "Self-employed    63706\n",
              "Full-time        63656\n",
              "Name: count, dtype: int64"
            ]
          },
          "metadata": {},
          "execution_count": 9
        }
      ]
    },
    {
      "cell_type": "code",
      "source": [
        "df['MaritalStatus'].value_counts()"
      ],
      "metadata": {
        "colab": {
          "base_uri": "https://localhost:8080/"
        },
        "id": "s3E203O_b1Js",
        "outputId": "85164764-5adf-4077-84b5-5900d8de3904"
      },
      "execution_count": null,
      "outputs": [
        {
          "output_type": "execute_result",
          "data": {
            "text/plain": [
              "MaritalStatus\n",
              "Married     85302\n",
              "Divorced    85033\n",
              "Single      85012\n",
              "Name: count, dtype: int64"
            ]
          },
          "metadata": {},
          "execution_count": 10
        }
      ]
    },
    {
      "cell_type": "code",
      "source": [
        "df['HasMortgage'].value_counts()"
      ],
      "metadata": {
        "colab": {
          "base_uri": "https://localhost:8080/"
        },
        "id": "7WVlef0db1M0",
        "outputId": "50e49cf7-dc98-4bc3-a346-a1253c43f1a5"
      },
      "execution_count": null,
      "outputs": [
        {
          "output_type": "execute_result",
          "data": {
            "text/plain": [
              "HasMortgage\n",
              "Yes    127677\n",
              "No     127670\n",
              "Name: count, dtype: int64"
            ]
          },
          "metadata": {},
          "execution_count": 11
        }
      ]
    },
    {
      "cell_type": "code",
      "source": [
        "df['HasDependents'].value_counts()"
      ],
      "metadata": {
        "colab": {
          "base_uri": "https://localhost:8080/"
        },
        "id": "KTPrp1zub1QP",
        "outputId": "64cfb7b3-0664-4756-dfa8-f36af1aee4c9"
      },
      "execution_count": null,
      "outputs": [
        {
          "output_type": "execute_result",
          "data": {
            "text/plain": [
              "HasDependents\n",
              "Yes    127742\n",
              "No     127605\n",
              "Name: count, dtype: int64"
            ]
          },
          "metadata": {},
          "execution_count": 12
        }
      ]
    },
    {
      "cell_type": "code",
      "source": [
        "df['LoanPurpose'].value_counts()"
      ],
      "metadata": {
        "colab": {
          "base_uri": "https://localhost:8080/"
        },
        "id": "6mG6W33vboWg",
        "outputId": "41a9dcab-a137-4b36-fb3f-0368024915c0"
      },
      "execution_count": null,
      "outputs": [
        {
          "output_type": "execute_result",
          "data": {
            "text/plain": [
              "LoanPurpose\n",
              "Business     51298\n",
              "Home         51286\n",
              "Education    51005\n",
              "Other        50914\n",
              "Auto         50844\n",
              "Name: count, dtype: int64"
            ]
          },
          "metadata": {},
          "execution_count": 13
        }
      ]
    },
    {
      "cell_type": "code",
      "source": [
        "df['HasCoSigner'].value_counts()"
      ],
      "metadata": {
        "colab": {
          "base_uri": "https://localhost:8080/"
        },
        "id": "Vk9NkdBRcAUQ",
        "outputId": "d9dff942-b3d7-458a-f34d-0fbe3e485cd0"
      },
      "execution_count": null,
      "outputs": [
        {
          "output_type": "execute_result",
          "data": {
            "text/plain": [
              "HasCoSigner\n",
              "Yes    127701\n",
              "No     127646\n",
              "Name: count, dtype: int64"
            ]
          },
          "metadata": {},
          "execution_count": 14
        }
      ]
    },
    {
      "cell_type": "code",
      "source": [
        "df['Default'].value_counts()"
      ],
      "metadata": {
        "colab": {
          "base_uri": "https://localhost:8080/"
        },
        "id": "H80Tz-BEcCsT",
        "outputId": "e45d0efe-28c9-45ff-f500-f6ef0af22aab"
      },
      "execution_count": null,
      "outputs": [
        {
          "output_type": "execute_result",
          "data": {
            "text/plain": [
              "Default\n",
              "0    225694\n",
              "1     29653\n",
              "Name: count, dtype: int64"
            ]
          },
          "metadata": {},
          "execution_count": 15
        }
      ]
    },
    {
      "cell_type": "markdown",
      "source": [
        "## Converting categorical columns into numerical data"
      ],
      "metadata": {
        "id": "hnL60t6jFXfe"
      }
    },
    {
      "cell_type": "code",
      "source": [
        "from sklearn.preprocessing import LabelEncoder\n",
        "\n",
        "# List of categorical columns to be label encoded\n",
        "categorical_columns = ['Education', 'EmploymentType', 'MaritalStatus', 'HasMortgage', 'HasDependents', 'LoanPurpose', 'HasCoSigner']\n",
        "\n",
        "# Initialize LabelEncoder\n",
        "label_encoder = LabelEncoder()\n",
        "\n",
        "# Iterate through each categorical column and apply label encoding\n",
        "for col in categorical_columns:\n",
        "    df[col] = label_encoder.fit_transform(df[col])"
      ],
      "metadata": {
        "id": "FYeIqtyxcYFm"
      },
      "execution_count": null,
      "outputs": []
    },
    {
      "cell_type": "markdown",
      "source": [
        "## Checking relation between columns in dataset"
      ],
      "metadata": {
        "id": "cBVpOca_FfY2"
      }
    },
    {
      "cell_type": "code",
      "source": [
        "correlation_with_default = df.corr()['Default'].sort_values(ascending=False)\n",
        "\n",
        "print(correlation_with_default)"
      ],
      "metadata": {
        "colab": {
          "base_uri": "https://localhost:8080/"
        },
        "id": "csO3sUGneKYu",
        "outputId": "9406cb9f-1b7e-4204-e244-f5f8e0efd83c"
      },
      "execution_count": null,
      "outputs": [
        {
          "output_type": "stream",
          "name": "stdout",
          "text": [
            "Default           1.000000\n",
            "InterestRate      0.131273\n",
            "LoanAmount        0.086659\n",
            "EmploymentType    0.041010\n",
            "NumCreditLines    0.028330\n",
            "DTIRatio          0.019236\n",
            "LoanTerm          0.000545\n",
            "MaritalStatus    -0.007902\n",
            "LoanPurpose      -0.010096\n",
            "Education        -0.022835\n",
            "HasMortgage      -0.022856\n",
            "CreditScore      -0.034166\n",
            "HasDependents    -0.034678\n",
            "HasCoSigner      -0.039109\n",
            "MonthsEmployed   -0.097374\n",
            "Income           -0.099119\n",
            "Age              -0.167783\n",
            "Name: Default, dtype: float64\n"
          ]
        }
      ]
    },
    {
      "cell_type": "markdown",
      "source": [
        "## Checking for collinearity in data"
      ],
      "metadata": {
        "id": "ucCWLZZNFoin"
      }
    },
    {
      "cell_type": "code",
      "source": [
        "from statsmodels.stats.outliers_influence import variance_inflation_factor\n",
        "from statsmodels.tools.tools import add_constant\n",
        "\n",
        "# Create a DataFrame containing only the independent variables (features)\n",
        "X = df.drop(columns=['Default'])\n",
        "\n",
        "# Add a constant to the independent variables matrix for intercept calculation\n",
        "X = add_constant(X)\n",
        "\n",
        "# Calculate VIF for each independent variable\n",
        "vif_data = pd.DataFrame()\n",
        "vif_data[\"feature\"] = X.columns\n",
        "vif_data[\"VIF\"] = [variance_inflation_factor(X.values, i) for i in range(X.shape[1])]\n",
        "\n",
        "# Print VIF values\n",
        "print(vif_data)\n"
      ],
      "metadata": {
        "colab": {
          "base_uri": "https://localhost:8080/"
        },
        "id": "jL70ROZccCvK",
        "outputId": "17488bd8-e24d-446f-91e7-c13bb662a7f9"
      },
      "execution_count": null,
      "outputs": [
        {
          "output_type": "stream",
          "name": "stdout",
          "text": [
            "           feature        VIF\n",
            "0            const  61.778423\n",
            "1              Age   1.000051\n",
            "2           Income   1.000070\n",
            "3       LoanAmount   1.000049\n",
            "4      CreditScore   1.000049\n",
            "5   MonthsEmployed   1.000034\n",
            "6   NumCreditLines   1.000026\n",
            "7     InterestRate   1.000066\n",
            "8         LoanTerm   1.000045\n",
            "9         DTIRatio   1.000074\n",
            "10       Education   1.000076\n",
            "11  EmploymentType   1.000066\n",
            "12   MaritalStatus   1.000097\n",
            "13     HasMortgage   1.000031\n",
            "14   HasDependents   1.000050\n",
            "15     LoanPurpose   1.000077\n",
            "16     HasCoSigner   1.000077\n"
          ]
        }
      ]
    },
    {
      "cell_type": "markdown",
      "source": [
        "## Correcting imbalance in dataset and removing outliers from data"
      ],
      "metadata": {
        "id": "3gw7i7VvFwfH"
      }
    },
    {
      "cell_type": "code",
      "source": [
        "from imblearn.over_sampling import SMOTE\n",
        "from sklearn.ensemble import IsolationForest\n",
        "\n",
        "# Step 1: Balance the dataset using SMOTE\n",
        "X = df.drop('Default', axis=1)  # Features\n",
        "y = df['Default']  # Target\n",
        "\n",
        "# Instantiate SMOTE\n",
        "smote = SMOTE(random_state=42)\n",
        "X_resampled, y_resampled = smote.fit_resample(X, y)\n",
        "\n",
        "# Convert back to DataFrame\n",
        "df_resampled = pd.concat([pd.DataFrame(X_resampled), pd.DataFrame(y_resampled, columns=['Default'])], axis=1)\n",
        "\n",
        "# Step 2: Remove outliers using Isolation Forest\n",
        "# Assuming your dataset is already scaled appropriately\n",
        "\n",
        "# Instantiate Isolation Forest\n",
        "isolation_forest = IsolationForest(contamination=0.1, random_state=42)\n",
        "\n",
        "# Fit Isolation Forest\n",
        "outlier_preds = isolation_forest.fit_predict(df_resampled.drop('Default', axis=1))\n",
        "\n",
        "# Filter outliers\n",
        "df_no_outliers = df_resampled[outlier_preds != -1]\n",
        "\n",
        "# Separate target variable from features\n",
        "X_no_outliers = df_no_outliers.drop('Default', axis=1)\n",
        "y_no_outliers = df_no_outliers['Default']\n",
        "\n",
        "# Concatenate features and target variable\n",
        "df_final = pd.concat([X_no_outliers, y_no_outliers], axis=1)\n",
        "\n",
        "# Now, df_final contains your balanced dataset without outliers, including the target variable\n"
      ],
      "metadata": {
        "colab": {
          "base_uri": "https://localhost:8080/"
        },
        "id": "Pr0kpXcEcvpQ",
        "outputId": "db95d308-2f84-4dbd-c4f5-e78abd27111b"
      },
      "execution_count": null,
      "outputs": [
        {
          "output_type": "stream",
          "name": "stderr",
          "text": [
            "/usr/local/lib/python3.10/dist-packages/sklearn/base.py:439: UserWarning: X does not have valid feature names, but IsolationForest was fitted with feature names\n",
            "  warnings.warn(\n"
          ]
        }
      ]
    },
    {
      "cell_type": "code",
      "source": [
        "df_final['Default'].value_counts()"
      ],
      "metadata": {
        "colab": {
          "base_uri": "https://localhost:8080/"
        },
        "id": "IqGcHiWHc0fI",
        "outputId": "2e5a74d2-95f6-446a-cc54-b7833b664e0d"
      },
      "execution_count": null,
      "outputs": [
        {
          "output_type": "execute_result",
          "data": {
            "text/plain": [
              "Default\n",
              "1    220277\n",
              "0    185972\n",
              "Name: count, dtype: int64"
            ]
          },
          "metadata": {},
          "execution_count": 21
        }
      ]
    },
    {
      "cell_type": "markdown",
      "source": [
        "## Normalizing the dataset"
      ],
      "metadata": {
        "id": "-UIvmvw_F6QA"
      }
    },
    {
      "cell_type": "code",
      "source": [
        "from sklearn.preprocessing import StandardScaler\n",
        "\n",
        "# Columns to be standardized\n",
        "columns_to_standardize = ['Age', 'Income', 'LoanAmount', 'CreditScore', 'MonthsEmployed', 'NumCreditLines', 'InterestRate',\n",
        "                          'LoanTerm', 'DTIRatio']\n",
        "\n",
        "# Instantiate StandardScaler\n",
        "scaler = StandardScaler()\n",
        "\n",
        "# Standardize selected columns\n",
        "df_final[columns_to_standardize] = scaler.fit_transform(df_final[columns_to_standardize])\n",
        "\n",
        "# Now, df_final contains standardized numerical columns\n"
      ],
      "metadata": {
        "id": "GJVPcoN2cU3c"
      },
      "execution_count": null,
      "outputs": []
    },
    {
      "cell_type": "markdown",
      "source": [
        "## Dividing the data"
      ],
      "metadata": {
        "id": "NlemkZMqF_ew"
      }
    },
    {
      "cell_type": "code",
      "source": [
        "from sklearn.model_selection import train_test_split\n",
        "\n",
        "# Splitting into features (X) and target variable (y)\n",
        "X = df_final.drop('Default', axis=1)\n",
        "y = df_final['Default']\n",
        "\n",
        "# Splitting the dataset into training and testing sets\n",
        "X_train, X_test, y_train, y_test = train_test_split(X, y, test_size=0.2, random_state=42)\n",
        "\n"
      ],
      "metadata": {
        "id": "nkN7gQFZcdXB"
      },
      "execution_count": null,
      "outputs": []
    },
    {
      "cell_type": "markdown",
      "source": [
        "# Training the model"
      ],
      "metadata": {
        "id": "YSI00imCGCsQ"
      }
    },
    {
      "cell_type": "code",
      "source": [
        "class LogisticRegressionWithRegularization:\n",
        "    def __init__(self, learning_rate=0.01, num_iterations=1000, lambda_val=0.01):\n",
        "        self.learning_rate = learning_rate\n",
        "        self.num_iterations = num_iterations\n",
        "        self.lambda_val = lambda_val\n",
        "        self.weights = None\n",
        "        self.bias = None\n",
        "\n",
        "    def sigmoid(self, z):\n",
        "        return 1 / (1 + np.exp(-z))\n",
        "\n",
        "    def fit(self, X, y):\n",
        "        num_samples, num_features = X.shape\n",
        "        self.weights = np.zeros(num_features)\n",
        "        self.bias = 0\n",
        "\n",
        "        # gradient descent\n",
        "        for _ in range(self.num_iterations):\n",
        "            # linear model\n",
        "            linear_model = np.dot(X, self.weights) + self.bias\n",
        "            # sigmoid function\n",
        "            y_predicted = self.sigmoid(linear_model)\n",
        "\n",
        "            # compute gradients with regularization\n",
        "            dw = (1 / num_samples) * (np.dot(X.T, (y_predicted - y)) + 2 * self.lambda_val * self.weights)\n",
        "            db = (1 / num_samples) * np.sum(y_predicted - y)\n",
        "\n",
        "            # update parameters\n",
        "            self.weights -= self.learning_rate * dw\n",
        "            self.bias -= self.learning_rate * db\n",
        "\n",
        "    def predict(self, X):\n",
        "        linear_model = np.dot(X, self.weights) + self.bias\n",
        "        y_predicted = self.sigmoid(linear_model)\n",
        "        y_predicted_cls = [1 if i > 0.5 else 0 for i in y_predicted]\n",
        "        return y_predicted_cls\n"
      ],
      "metadata": {
        "id": "ulYwo_MzvQzo"
      },
      "execution_count": null,
      "outputs": []
    },
    {
      "cell_type": "code",
      "source": [
        "log_reg = LogisticRegressionWithRegularization()\n",
        "log_reg.fit(X_train, y_train)"
      ],
      "metadata": {
        "id": "-uBBvlHh0QMe"
      },
      "execution_count": null,
      "outputs": []
    },
    {
      "cell_type": "markdown",
      "source": [
        "# Hypothesis Testing"
      ],
      "metadata": {
        "id": "WOhVgOQRGVpf"
      }
    },
    {
      "cell_type": "code",
      "source": [
        "# Define hypothesis testing function\n",
        "def wald_test(model, X, y):\n",
        "    # Get coefficient estimates and their standard errors\n",
        "    coef = model.weights\n",
        "    num_samples, num_features = X.shape\n",
        "    y_predicted = model.predict(X)\n",
        "    residuals = y_predicted - y\n",
        "    sigma_squared = np.dot(residuals, residuals) / (num_samples - num_features - 1)\n",
        "    cov_matrix = np.linalg.inv(np.dot(X.T, X)) * sigma_squared\n",
        "\n",
        "    # Compute z-statistics\n",
        "    z_stat = coef / np.sqrt(np.diag(cov_matrix))\n",
        "\n",
        "    # Compute Wald statistic\n",
        "    wald_stat = z_stat ** 2\n",
        "\n",
        "    # Compute p-values\n",
        "    p_values = 1 - chi2.cdf(wald_stat, df=1)\n",
        "\n",
        "    return {'Coefficient': coef.flatten(), 'Standard Error': np.sqrt(np.diag(cov_matrix)), 'Z-Statistic': z_stat, 'Wald Statistic': wald_stat, 'P-Value': p_values}\n",
        "\n",
        "\n",
        "# Perform hypothesis testing\n",
        "results = wald_test(log_reg, X_train, y_train)\n",
        "\n",
        "# Print results\n",
        "print(\"Hypothesis Testing Results:\")\n",
        "print(\"{:<20} {:<20} {:<20} {:<20} {:<20}\".format('Feature', 'Coefficient', 'Standard Error', 'Z-Statistic', 'P-Value'))\n",
        "for i in range(len(log_reg.weights)):\n",
        "    print(\"{:<20} {:<20} {:<20} {:<20} {:<20}\".format(f'Feature {i}', results['Coefficient'][i], results['Standard Error'][i], results['Z-Statistic'][i], results['P-Value'][i]))"
      ],
      "metadata": {
        "colab": {
          "base_uri": "https://localhost:8080/"
        },
        "id": "hx1EdKqAx9KJ",
        "outputId": "911226e4-77f0-417c-8ffb-28dd4f444c4d"
      },
      "execution_count": null,
      "outputs": [
        {
          "output_type": "stream",
          "name": "stdout",
          "text": [
            "Hypothesis Testing Results:\n",
            "Feature              Coefficient          Standard Error       Z-Statistic          P-Value             \n",
            "Feature 0            -0.5187685149565371  0.0009061655042566831 -572.4876002448104   0.0                 \n",
            "Feature 1            -0.2555224420988639  0.0009056316536288992 -282.1483117059525   0.0                 \n",
            "Feature 2            0.2416889413902621   0.0009056276262973068 266.8745236697522    0.0                 \n",
            "Feature 3            -0.10951510974593666 0.0009027582325195428 -121.3116710553685   0.0                 \n",
            "Feature 4            -0.2932393391639206  0.0009040534118266929 -324.36063547552277  0.0                 \n",
            "Feature 5            -0.1565406309757568  0.0009042322793414578 -173.1199322919146   0.0                 \n",
            "Feature 6            0.37896648503735314  0.0009045623594996714 418.9500934429395    0.0                 \n",
            "Feature 7            -0.012348490417606191 0.000902751879310508 -13.678720255932959  0.0                 \n",
            "Feature 8            0.0577085917946006   0.0009025628690909342 63.938583971136524   0.0                 \n",
            "Feature 9            -0.1101049421637253  0.0008257869646128239 -133.33334974032775  0.0                 \n",
            "Feature 10           0.09920862073746153  0.0008005457996875927 123.9262273016447    0.0                 \n",
            "Feature 11           -0.14576213111912187 0.0011307290457634993 -128.9098671916571   0.0                 \n",
            "Feature 12           -0.26409433979660696 0.0018855811539455435 -140.0599169354204   0.0                 \n",
            "Feature 13           -0.30515279540175133 0.001899461267010782 -160.6522863622147   0.0                 \n",
            "Feature 14           -0.010791712766611249 0.000634397220654744 -17.010971068683777  0.0                 \n",
            "Feature 15           -0.31422542080844396 0.0019049246942286029 -164.95424819703393  0.0                 \n"
          ]
        }
      ]
    },
    {
      "cell_type": "markdown",
      "source": [
        "# Testing effectiveness of the model"
      ],
      "metadata": {
        "id": "iamLt5ESGZ7_"
      }
    },
    {
      "cell_type": "code",
      "source": [
        "from sklearn.metrics import accuracy_score, precision_score, recall_score, f1_score\n",
        "from sklearn.metrics import classification_report\n",
        "\n",
        "# Predict on test data\n",
        "y_pred = log_reg.predict(X_test)\n",
        "\n",
        "# Calculate accuracy\n",
        "accuracy = accuracy_score(y_test, y_pred)\n",
        "print(\"Accuracy:\", accuracy)\n",
        "\n",
        "# Calculate precision\n",
        "precision = precision_score(y_test, y_pred)\n",
        "print(\"Precision:\", precision)\n",
        "\n",
        "# Calculate recall\n",
        "recall = recall_score(y_test, y_pred)\n",
        "print(\"Recall:\", recall)\n",
        "\n",
        "# Calculate F1 score\n",
        "f1 = f1_score(y_test, y_pred)\n",
        "print(\"F1 Score:\", f1)\n",
        "\n",
        "\n",
        "# Generate classification report\n",
        "class_report = classification_report(y_test, y_pred)\n",
        "\n",
        "# Print the classification report\n",
        "print(\"Classification Report:\")\n",
        "print(class_report)"
      ],
      "metadata": {
        "id": "WgH7oUGsGRtv",
        "colab": {
          "base_uri": "https://localhost:8080/"
        },
        "outputId": "3991dc50-2997-4237-d7ef-c7b4e9960cd0"
      },
      "execution_count": null,
      "outputs": [
        {
          "output_type": "stream",
          "name": "stdout",
          "text": [
            "Accuracy: 0.7355323076923077\n",
            "Precision: 0.7625525716031109\n",
            "Recall: 0.7403563200036499\n",
            "F1 Score: 0.7512905391328504\n",
            "Classification Report:\n",
            "              precision    recall  f1-score   support\n",
            "\n",
            "           0       0.71      0.73      0.72     37413\n",
            "           1       0.76      0.74      0.75     43837\n",
            "\n",
            "    accuracy                           0.74     81250\n",
            "   macro avg       0.73      0.74      0.73     81250\n",
            "weighted avg       0.74      0.74      0.74     81250\n",
            "\n"
          ]
        }
      ]
    },
    {
      "cell_type": "markdown",
      "source": [
        "# Exploring top 3 reasons for prediction along with its values"
      ],
      "metadata": {
        "id": "lZD9kdhDGgEv"
      }
    },
    {
      "cell_type": "code",
      "source": [
        "# Define feature names (replace these with your actual feature names)\n",
        "feature_names = ['Age', 'Income', 'LoanAmount', 'CreditScore', 'MonthsEmployed', 'NumCreditLines', 'InterestRate', 'LoanTerm', 'DTIRatio', 'Education', 'EmploymentType', 'MaritalStatus', 'HasMortgage', 'HasDependents', 'LoanPurpose', 'HasCoSigner']\n",
        "\n",
        "# Initialize an empty DataFrame to store top reasons\n",
        "top_reasons_df = pd.DataFrame(columns=['Prediction', 'Top Reason 1', 'Value 1', 'Top Reason 2', 'Value 2', 'Top Reason 3', 'Value 3'])\n",
        "\n",
        "# Iterate through the last 10 predictions and extract top three reasons for each\n",
        "for i, prediction in enumerate(y_pred[-10:], start=len(y_pred)-10):\n",
        "    # Get coefficients from the logistic regression model for this prediction\n",
        "    coefficients = log_reg.weights\n",
        "\n",
        "    # Create a dictionary to map feature names to coefficients\n",
        "    feature_coefficients = dict(zip(feature_names, coefficients))\n",
        "\n",
        "    # Sort the features based on their coefficients\n",
        "    sorted_features = sorted(feature_coefficients.items(), key=lambda x: abs(x[1]), reverse=True)\n",
        "\n",
        "    # Extract top three reasons\n",
        "    top_three_reasons = sorted_features[:3]\n",
        "\n",
        "    # Extract top three reasons and their corresponding values\n",
        "    top_three_reasons_values = [(feature, coefficient, df_final.iloc[i][feature]) for feature, coefficient in top_three_reasons]\n",
        "\n",
        "    # Store top three reasons in DataFrame\n",
        "    row_values = [prediction]\n",
        "    for j in range(3):\n",
        "        if j < len(top_three_reasons_values):\n",
        "            reason, coefficient, value = top_three_reasons_values[j]\n",
        "            row_values.extend([reason, value])\n",
        "        else:\n",
        "            row_values.extend(['', ''])\n",
        "    top_reasons_df.loc[i] = row_values\n",
        "\n",
        "# Print or use top_reasons_df as needed\n",
        "print(top_reasons_df)\n"
      ],
      "metadata": {
        "colab": {
          "base_uri": "https://localhost:8080/"
        },
        "id": "rPH95A9VzT8g",
        "outputId": "6f51a693-a3d8-486e-c804-2963a6264bd4"
      },
      "execution_count": null,
      "outputs": [
        {
          "output_type": "stream",
          "name": "stdout",
          "text": [
            "       Prediction Top Reason 1   Value 1  Top Reason 2   Value 2 Top Reason 3  \\\n",
            "81240           0          Age  1.073523  InterestRate -1.696946  HasCoSigner   \n",
            "81241           1          Age  1.073523  InterestRate -0.252594  HasCoSigner   \n",
            "81242           0          Age -0.858206  InterestRate -1.980086  HasCoSigner   \n",
            "81243           0          Age -0.338125  InterestRate  1.481640  HasCoSigner   \n",
            "81244           1          Age -0.189531  InterestRate  0.677724  HasCoSigner   \n",
            "81245           0          Age -1.526882  InterestRate -1.157631  HasCoSigner   \n",
            "81246           1          Age  0.107659  InterestRate  0.820979  HasCoSigner   \n",
            "81247           1          Age -0.486720  InterestRate -1.555376  HasCoSigner   \n",
            "81248           1          Age  2.039388  InterestRate -1.312684  HasCoSigner   \n",
            "81249           0          Age  1.147821  InterestRate -1.130665  HasCoSigner   \n",
            "\n",
            "       Value 3  \n",
            "81240      0.0  \n",
            "81241      0.0  \n",
            "81242      0.0  \n",
            "81243      0.0  \n",
            "81244      1.0  \n",
            "81245      1.0  \n",
            "81246      1.0  \n",
            "81247      0.0  \n",
            "81248      0.0  \n",
            "81249      1.0  \n"
          ]
        }
      ]
    }
  ]
}